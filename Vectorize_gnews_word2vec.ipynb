{
 "cells": [
  {
   "cell_type": "code",
   "execution_count": 1,
   "metadata": {},
   "outputs": [],
   "source": [
    "import pickle\n",
    "import pandas as pd\n",
    "import numpy as np"
   ]
  },
  {
   "cell_type": "code",
   "execution_count": 2,
   "metadata": {},
   "outputs": [],
   "source": [
    "def unpickle(path):\n",
    "    return pickle.load(open(path, 'rb'))"
   ]
  },
  {
   "cell_type": "code",
   "execution_count": 3,
   "metadata": {},
   "outputs": [
    {
     "data": {
      "text/html": [
       "<div>\n",
       "<style scoped>\n",
       "    .dataframe tbody tr th:only-of-type {\n",
       "        vertical-align: middle;\n",
       "    }\n",
       "\n",
       "    .dataframe tbody tr th {\n",
       "        vertical-align: top;\n",
       "    }\n",
       "\n",
       "    .dataframe thead th {\n",
       "        text-align: right;\n",
       "    }\n",
       "</style>\n",
       "<table border=\"1\" class=\"dataframe\">\n",
       "  <thead>\n",
       "    <tr style=\"text-align: right;\">\n",
       "      <th></th>\n",
       "      <th>Department</th>\n",
       "      <th>Course Number</th>\n",
       "      <th>Course Title</th>\n",
       "      <th>Professor Name</th>\n",
       "      <th>Date</th>\n",
       "      <th>Url</th>\n",
       "      <th>Author</th>\n",
       "      <th>Description</th>\n",
       "      <th>Sessions</th>\n",
       "      <th>Material Url</th>\n",
       "      <th>Course Structure</th>\n",
       "    </tr>\n",
       "    <tr>\n",
       "      <th>Cid</th>\n",
       "      <th></th>\n",
       "      <th></th>\n",
       "      <th></th>\n",
       "      <th></th>\n",
       "      <th></th>\n",
       "      <th></th>\n",
       "      <th></th>\n",
       "      <th></th>\n",
       "      <th></th>\n",
       "      <th></th>\n",
       "      <th></th>\n",
       "    </tr>\n",
       "  </thead>\n",
       "  <tbody>\n",
       "    <tr>\n",
       "      <th>0</th>\n",
       "      <td>African American Studies</td>\n",
       "      <td>AFAM 162</td>\n",
       "      <td>African American History: From Emancipation to...</td>\n",
       "      <td>Jonathan Holloway</td>\n",
       "      <td>Spring 2010</td>\n",
       "      <td>https://oyc.yale.edu//african-american-studies...</td>\n",
       "      <td>{'name': 'Professor Jonathan Holloway', 'descr...</td>\n",
       "      <td>The purpose of this course is to examine the A...</td>\n",
       "      <td>[{'title': 'Dawn of Freedom', 'url': 'https://...</td>\n",
       "      <td>http://openmedia.yale.edu/cgi-bin/open_yale/me...</td>\n",
       "      <td>This Yale College course, taught on campus twi...</td>\n",
       "    </tr>\n",
       "    <tr>\n",
       "      <th>1</th>\n",
       "      <td>American Studies</td>\n",
       "      <td>AMST 246</td>\n",
       "      <td>Hemingway, Fitzgerald, Faulkner</td>\n",
       "      <td>Wai Chee Dimock</td>\n",
       "      <td>Fall 2011</td>\n",
       "      <td>https://oyc.yale.edu//american-studies/amst-246</td>\n",
       "      <td>{'name': 'Professor Wai Chee Dimock', 'descrip...</td>\n",
       "      <td>This course examines major works by Hemingway,...</td>\n",
       "      <td>[{'title': 'Introduction', 'url': 'https://oyc...</td>\n",
       "      <td>http://openmedia.yale.edu/cgi-bin/open_yale/me...</td>\n",
       "      <td>This Yale College course, taught on campus two...</td>\n",
       "    </tr>\n",
       "  </tbody>\n",
       "</table>\n",
       "</div>"
      ],
      "text/plain": [
       "                   Department Course Number  \\\n",
       "Cid                                           \n",
       "0    African American Studies      AFAM 162   \n",
       "1            American Studies      AMST 246   \n",
       "\n",
       "                                          Course Title     Professor Name  \\\n",
       "Cid                                                                         \n",
       "0    African American History: From Emancipation to...  Jonathan Holloway   \n",
       "1                      Hemingway, Fitzgerald, Faulkner    Wai Chee Dimock   \n",
       "\n",
       "            Date                                                Url  \\\n",
       "Cid                                                                   \n",
       "0    Spring 2010  https://oyc.yale.edu//african-american-studies...   \n",
       "1      Fall 2011    https://oyc.yale.edu//american-studies/amst-246   \n",
       "\n",
       "                                                Author  \\\n",
       "Cid                                                      \n",
       "0    {'name': 'Professor Jonathan Holloway', 'descr...   \n",
       "1    {'name': 'Professor Wai Chee Dimock', 'descrip...   \n",
       "\n",
       "                                           Description  \\\n",
       "Cid                                                      \n",
       "0    The purpose of this course is to examine the A...   \n",
       "1    This course examines major works by Hemingway,...   \n",
       "\n",
       "                                              Sessions  \\\n",
       "Cid                                                      \n",
       "0    [{'title': 'Dawn of Freedom', 'url': 'https://...   \n",
       "1    [{'title': 'Introduction', 'url': 'https://oyc...   \n",
       "\n",
       "                                          Material Url  \\\n",
       "Cid                                                      \n",
       "0    http://openmedia.yale.edu/cgi-bin/open_yale/me...   \n",
       "1    http://openmedia.yale.edu/cgi-bin/open_yale/me...   \n",
       "\n",
       "                                      Course Structure  \n",
       "Cid                                                     \n",
       "0    This Yale College course, taught on campus twi...  \n",
       "1    This Yale College course, taught on campus two...  "
      ]
     },
     "execution_count": 3,
     "metadata": {},
     "output_type": "execute_result"
    }
   ],
   "source": [
    "courses = unpickle(\"./yaleocw-corpus/data/courses.pickle\")\n",
    "courses.head(2)"
   ]
  },
  {
   "cell_type": "code",
   "execution_count": 4,
   "metadata": {},
   "outputs": [
    {
     "data": {
      "text/html": [
       "<div>\n",
       "<style scoped>\n",
       "    .dataframe tbody tr th:only-of-type {\n",
       "        vertical-align: middle;\n",
       "    }\n",
       "\n",
       "    .dataframe tbody tr th {\n",
       "        vertical-align: top;\n",
       "    }\n",
       "\n",
       "    .dataframe thead th {\n",
       "        text-align: right;\n",
       "    }\n",
       "</style>\n",
       "<table border=\"1\" class=\"dataframe\">\n",
       "  <thead>\n",
       "    <tr style=\"text-align: right;\">\n",
       "      <th></th>\n",
       "      <th>Cid</th>\n",
       "      <th>Course Number</th>\n",
       "      <th>Number In Series</th>\n",
       "      <th>Title</th>\n",
       "      <th>Chapters</th>\n",
       "      <th>Transcriptions</th>\n",
       "      <th>Url</th>\n",
       "      <th>Description</th>\n",
       "      <th>Video</th>\n",
       "      <th>Ressources</th>\n",
       "    </tr>\n",
       "    <tr>\n",
       "      <th>Sid</th>\n",
       "      <th></th>\n",
       "      <th></th>\n",
       "      <th></th>\n",
       "      <th></th>\n",
       "      <th></th>\n",
       "      <th></th>\n",
       "      <th></th>\n",
       "      <th></th>\n",
       "      <th></th>\n",
       "      <th></th>\n",
       "    </tr>\n",
       "  </thead>\n",
       "  <tbody>\n",
       "    <tr>\n",
       "      <th>0</th>\n",
       "      <td>0</td>\n",
       "      <td>AFAM 162</td>\n",
       "      <td>Lecture 1</td>\n",
       "      <td>Dawn of Freedom</td>\n",
       "      <td>[(Chapter 1. Frederick Douglass’ Speech, Deliv...</td>\n",
       "      <td>[Professor Jonathan Holloway : \\n “Fellow citi...</td>\n",
       "      <td>https://oyc.yale.edu//african-american-studies...</td>\n",
       "      <td>Professor Holloway offers an introduction to t...</td>\n",
       "      <td>{'url': 'http://openmedia.yale.edu/projects/co...</td>\n",
       "      <td>[{'url': 'https://oyc.yale.edu/sites/default/f...</td>\n",
       "    </tr>\n",
       "    <tr>\n",
       "      <th>1</th>\n",
       "      <td>0</td>\n",
       "      <td>AFAM 162</td>\n",
       "      <td>Lecture 2</td>\n",
       "      <td>Dawn of Freedom (continued)</td>\n",
       "      <td>[(Chapter 1. Introduction and Recap of Last Cl...</td>\n",
       "      <td>[Professor Jonathan Holloway : Yesterday, Mond...</td>\n",
       "      <td>https://oyc.yale.edu//african-american-studies...</td>\n",
       "      <td>In this lecture, Professor Holloway gives a br...</td>\n",
       "      <td>{'url': 'http://openmedia.yale.edu/projects/co...</td>\n",
       "      <td>[{'url': 'https://oyc.yale.edu/sites/default/f...</td>\n",
       "    </tr>\n",
       "  </tbody>\n",
       "</table>\n",
       "</div>"
      ],
      "text/plain": [
       "     Cid Course Number Number In Series                        Title  \\\n",
       "Sid                                                                    \n",
       "0      0      AFAM 162        Lecture 1              Dawn of Freedom   \n",
       "1      0      AFAM 162        Lecture 2  Dawn of Freedom (continued)   \n",
       "\n",
       "                                              Chapters  \\\n",
       "Sid                                                      \n",
       "0    [(Chapter 1. Frederick Douglass’ Speech, Deliv...   \n",
       "1    [(Chapter 1. Introduction and Recap of Last Cl...   \n",
       "\n",
       "                                        Transcriptions  \\\n",
       "Sid                                                      \n",
       "0    [Professor Jonathan Holloway : \\n “Fellow citi...   \n",
       "1    [Professor Jonathan Holloway : Yesterday, Mond...   \n",
       "\n",
       "                                                   Url  \\\n",
       "Sid                                                      \n",
       "0    https://oyc.yale.edu//african-american-studies...   \n",
       "1    https://oyc.yale.edu//african-american-studies...   \n",
       "\n",
       "                                           Description  \\\n",
       "Sid                                                      \n",
       "0    Professor Holloway offers an introduction to t...   \n",
       "1    In this lecture, Professor Holloway gives a br...   \n",
       "\n",
       "                                                 Video  \\\n",
       "Sid                                                      \n",
       "0    {'url': 'http://openmedia.yale.edu/projects/co...   \n",
       "1    {'url': 'http://openmedia.yale.edu/projects/co...   \n",
       "\n",
       "                                            Ressources  \n",
       "Sid                                                     \n",
       "0    [{'url': 'https://oyc.yale.edu/sites/default/f...  \n",
       "1    [{'url': 'https://oyc.yale.edu/sites/default/f...  "
      ]
     },
     "execution_count": 4,
     "metadata": {},
     "output_type": "execute_result"
    }
   ],
   "source": [
    "sessions = unpickle(\"./yaleocw-corpus/data/sessions.pickle\")\n",
    "sessions.head(2)"
   ]
  },
  {
   "cell_type": "code",
   "execution_count": 5,
   "metadata": {},
   "outputs": [
    {
     "data": {
      "text/plain": [
       "6"
      ]
     },
     "execution_count": 5,
     "metadata": {},
     "output_type": "execute_result"
    }
   ],
   "source": [
    "len(sessions.Transcriptions[0])"
   ]
  },
  {
   "cell_type": "code",
   "execution_count": 6,
   "metadata": {
    "scrolled": false
   },
   "outputs": [],
   "source": [
    "def splitTranscripts(session, n = 4, sep = \".\"):\n",
    "    _splits = []\n",
    "    for _chapter in session:\n",
    "        _sentences = _chapter.split(sep)\n",
    "        _step = len(_sentences)/n\n",
    "        _start, _end = 0, _step\n",
    "        while _end<len(_sentences):\n",
    "            _splits.append(sep.join(_sentences[int(_start):int(_end)]))\n",
    "            _start = _end\n",
    "            _end += _step\n",
    "        _splits.append(sep.join(_sentences[int(_start):]))\n",
    "    return _splits"
   ]
  },
  {
   "cell_type": "code",
   "execution_count": 7,
   "metadata": {},
   "outputs": [],
   "source": [
    "import gensim"
   ]
  },
  {
   "cell_type": "code",
   "execution_count": 8,
   "metadata": {},
   "outputs": [],
   "source": [
    "# Load Google's pre-trained Word2Vec model.\n",
    "model = gensim.models.KeyedVectors.load_word2vec_format('./GoogleNews-vectors-negative300.bin', binary=True)  "
   ]
  },
  {
   "cell_type": "code",
   "execution_count": 2,
   "metadata": {
    "scrolled": true
   },
   "outputs": [],
   "source": [
    "def averageVector(sentence):\n",
    "    _vector = np.zeros(shape=(model.vector_size))\n",
    "    _c = 0\n",
    "    for _word in sentence.split(\" \"):\n",
    "        if(_word in model.vocab):\n",
    "            _vector += model.get_vector(_word)\n",
    "        _c += 1\n",
    "    return _vector/_c\n",
    "\n",
    "def dist(sampleA, sampleB):\n",
    "    _e = 0\n",
    "    for _f in range(len(sampleA)):\n",
    "        _e =+ pow(sampleA[_f]-sampleB[_f], 2)\n",
    "    return _e"
   ]
  },
  {
   "cell_type": "code",
   "execution_count": 10,
   "metadata": {},
   "outputs": [],
   "source": [
    "_transcripts = sessions.groupby(\"Cid\")\n",
    "_vectors = []\n",
    "\n",
    "for _i, _course in _transcripts:\n",
    "    _c = []\n",
    "    for _session in _course.Transcriptions:\n",
    "        if _session is None:\n",
    "            break\n",
    "        if len(_session) < 1:\n",
    "            break\n",
    "        for _splitchapter in splitTranscripts(_session, n=6):\n",
    "            _c.append(averageVector(_splitchapter))\n",
    "    _vectors.append(_c)\n"
   ]
  },
  {
   "cell_type": "code",
   "execution_count": 13,
   "metadata": {},
   "outputs": [
    {
     "name": "stdout",
     "output_type": "stream",
     "text": [
      "6:25\n",
      "6:26\n",
      "6:27\n",
      "6:28\n",
      "6:29\n",
      "7:25\n",
      "7:26\n",
      "7:27\n",
      "7:28\n",
      "7:29\n",
      "8:25\n",
      "8:26\n",
      "8:27\n",
      "8:28\n",
      "8:29\n",
      "9:25\n",
      "9:26\n",
      "9:27\n",
      "9:28\n",
      "9:29\n",
      "10:25\n",
      "10:26\n",
      "10:27\n",
      "10:28\n",
      "10:29\n",
      "11:25\n",
      "11:26\n",
      "11:27\n",
      "11:28\n",
      "11:29\n",
      "12:25\n",
      "12:26\n",
      "12:27\n",
      "12:28\n",
      "12:29\n",
      "13:25\n",
      "13:26\n",
      "13:27\n",
      "13:28\n",
      "13:29\n",
      "14:25\n",
      "14:26\n",
      "14:27\n",
      "14:28\n",
      "14:29\n",
      "15:25\n",
      "15:26\n",
      "15:27\n",
      "15:28\n",
      "15:29\n"
     ]
    }
   ],
   "source": [
    "label = []\n",
    "matrix = []\n",
    "co_in, ch_in = (6,16), (25,30) \n",
    "for _cid, _course in enumerate(_vectors[co_in[0]:co_in[1]], co_in[0]):\n",
    "    for _chapid, _chapter in enumerate(_course[ch_in[0]:ch_in[1]], ch_in[0]):\n",
    "        print(str(_cid)+\":\"+str(_chapid))\n",
    "        label.append(str(_cid)+\":\"+str(_chapid))\n",
    "        _l = []\n",
    "        for _bcid, _bcourse in enumerate(_vectors[co_in[0]:co_in[1]], co_in[0]):\n",
    "            for _bchapid, _bchapter in enumerate(_bcourse[ch_in[0]:ch_in[1]], ch_in[0]):\n",
    "                _l.append(dist(_chapter, _bchapter))\n",
    "        matrix.append(_l)"
   ]
  },
  {
   "cell_type": "code",
   "execution_count": 14,
   "metadata": {},
   "outputs": [],
   "source": [
    "import matplotlib\n",
    "import matplotlib.pyplot as plt"
   ]
  },
  {
   "cell_type": "code",
   "execution_count": 18,
   "metadata": {},
   "outputs": [
    {
     "data": {
      "image/png": "[encoded data removed]",
      "text/plain": [
       "<Figure size 720x720 with 1 Axes>"
      ]
     },
     "metadata": {
      "needs_background": "light"
     },
     "output_type": "display_data"
    }
   ],
   "source": [
    "fig, ax = plt.subplots(figsize=(10,10))\n",
    "im = ax.imshow(matrix, cmap=\"Greys\")\n",
    "\n",
    "# We want to show all ticks...\n",
    "ax.set_xticks(np.arange(len(label)))\n",
    "ax.set_yticks(np.arange(len(label)))\n",
    "# ... and label them with the respective list entries\n",
    "ax.set_xticklabels(label)\n",
    "ax.set_yticklabels(label)\n",
    "\n",
    "# Rotate the tick labels and set their alignment.\n",
    "plt.setp(ax.get_xticklabels(), rotation=90, ha=\"right\",\n",
    "         rotation_mode=\"anchor\")\n",
    "\n",
    "fig.tight_layout()\n",
    "plt.show()"
   ]
  },
  {
   "cell_type": "code",
   "execution_count": null,
   "metadata": {
    "scrolled": true
   },
   "outputs": [],
   "source": [
    "pickle.dump(_vectors, open(\"vectors_gnews.pickle\", 'wb'))"
   ]
  }
 ],
 "metadata": {
  "kernelspec": {
   "display_name": "Python 3",
   "language": "python",
   "name": "python3"
  },
  "language_info": {
   "codemirror_mode": {
    "name": "ipython",
    "version": 3
   },
   "file_extension": ".py",
   "mimetype": "text/x-python",
   "name": "python",
   "nbconvert_exporter": "python",
   "pygments_lexer": "ipython3",
   "version": "3.6.7"
  }
 },
 "nbformat": 4,
 "nbformat_minor": 2
}
