{
 "cells": [
  {
   "cell_type": "code",
   "execution_count": 1,
   "metadata": {
    "scrolled": true
   },
   "outputs": [
    {
     "name": "stderr",
     "output_type": "stream",
     "text": [
      "Using TensorFlow backend.\n"
     ]
    }
   ],
   "source": [
    "import tensorflow as tf\n",
    "from keras.models import Sequential\n",
    "from keras.layers import Dense\n",
    "from keras.layers import LSTM\n",
    "from keras.layers import Bidirectional\n",
    "from keras.layers import Masking\n",
    "from keras.layers import BatchNormalization\n",
    "from keras import optimizers\n",
    "from keras.utils import Sequence\n",
    "from keras.callbacks import BaseLogger\n",
    "from keras.models import load_model\n",
    "from sklearn.metrics import mean_squared_error\n",
    "from sklearn.neighbors import NearestNeighbors\n",
    "\n",
    "import matplotlib\n",
    "\n",
    "import pickle\n",
    "import pandas as pd\n",
    "import numpy as np\n",
    "import math\n",
    "import itertools\n",
    "import matplotlib.pyplot as plt\n",
    "from scipy import spatial\n",
    "\n",
    "from SequenceHandler import evaluate, flatten, genXY, getSubDict, ranks, splitTrainTest, genXY, gen_sequences\n",
    "from ShowLoss import ShowLoss"
   ]
  },
  {
   "cell_type": "code",
   "execution_count": 2,
   "metadata": {},
   "outputs": [],
   "source": [
    "vectors = pickle.load(open(\"vectors/vectors_doc2vec_sessions.pickle\", 'rb'))\n",
    "flat, xyi = flatten(vectors, seq_len=-1)\n",
    "traini, testi = splitTrainTest(xyi)\n",
    "_trainx, _trainy = genXY(flat, traini)\n",
    "_testx, _testy = genXY(flat, testi)"
   ]
  },
  {
   "cell_type": "code",
   "execution_count": null,
   "metadata": {
    "scrolled": true
   },
   "outputs": [
    {
     "name": "stdout",
     "output_type": "stream",
     "text": [
      "WARNING:tensorflow:From /home/swnw/.local/lib/python3.6/site-packages/tensorflow/python/framework/op_def_library.py:263: colocate_with (from tensorflow.python.framework.ops) is deprecated and will be removed in a future version.\n",
      "Instructions for updating:\n",
      "Colocations handled automatically by placer.\n",
      "_________________________________________________________________\n",
      "Layer (type)                 Output Shape              Param #   \n",
      "=================================================================\n",
      "masking_1 (Masking)          (None, None, 100)         0         \n",
      "_________________________________________________________________\n",
      "lstm_1 (LSTM)                (None, None, 50)          30200     \n",
      "_________________________________________________________________\n",
      "lstm_2 (LSTM)                (None, None, 50)          20200     \n",
      "_________________________________________________________________\n",
      "lstm_3 (LSTM)                (None, None, 50)          20200     \n",
      "_________________________________________________________________\n",
      "lstm_4 (LSTM)                (None, None, 50)          20200     \n",
      "_________________________________________________________________\n",
      "lstm_5 (LSTM)                (None, 50)                20200     \n",
      "_________________________________________________________________\n",
      "batch_normalization_1 (Batch (None, 50)                200       \n",
      "_________________________________________________________________\n",
      "dense_1 (Dense)              (None, 100)               5100      \n",
      "=================================================================\n",
      "Total params: 116,300\n",
      "Trainable params: 116,200\n",
      "Non-trainable params: 100\n",
      "_________________________________________________________________\n",
      "WARNING:tensorflow:From /home/swnw/.local/lib/python3.6/site-packages/tensorflow/python/ops/math_ops.py:3066: to_int32 (from tensorflow.python.ops.math_ops) is deprecated and will be removed in a future version.\n",
      "Instructions for updating:\n",
      "Use tf.cast instead.\n",
      "Epoch 1/50\n",
      " 4759/10000 [=============>................] - ETA: 1:20 - loss: -0.6655"
     ]
    }
   ],
   "source": [
    "_args = {\"epochs\":50, \"steps_per_epoch\":10000}\n",
    "_largs = {\"activation\":\"tanh\", \"dropout\":0}\n",
    "VECSIZE = 100\n",
    "\n",
    "nn = Sequential()\n",
    "nn.add(Masking(mask_value=0., input_shape=(None,VECSIZE)))\n",
    "nn.add(LSTM(50, return_sequences=True, **_largs))\n",
    "nn.add(LSTM(50, return_sequences=True, **_largs))\n",
    "nn.add(LSTM(50, return_sequences=True, **_largs))\n",
    "nn.add(LSTM(50, return_sequences=True, **_largs))\n",
    "nn.add(LSTM(50, **_largs))\n",
    "nn.add(BatchNormalization())\n",
    "nn.add(Dense(VECSIZE))\n",
    "nn.compile(loss='cosine_proximity', optimizer=\"adam\")\n",
    "nn.summary()\n",
    "\n",
    "nn.fit_generator(generator=gen_sequences(_trainx, _trainy), **_args, verbose=1, callbacks=[ShowLoss()])"
   ]
  },
  {
   "cell_type": "code",
   "execution_count": null,
   "metadata": {},
   "outputs": [],
   "source": [
    "nn.evaluate_generator(generator=gen_sequences(_testx, _testy), steps=2000)"
   ]
  },
  {
   "cell_type": "code",
   "execution_count": null,
   "metadata": {},
   "outputs": [],
   "source": [
    "nn.save(\"./model/lstm_newarchi\")"
   ]
  },
  {
   "cell_type": "code",
   "execution_count": null,
   "metadata": {},
   "outputs": [],
   "source": [
    "nn = load_model(\"./model/lstm_newarchi\")"
   ]
  },
  {
   "cell_type": "code",
   "execution_count": null,
   "metadata": {
    "scrolled": true
   },
   "outputs": [],
   "source": [
    "evaluate(ranks(flat, traini, lambda x: nn.predict(np.array([x]))[0]))\n",
    "evaluate(ranks(flat, testi, lambda x: nn.predict(np.array([x]))[0]))"
   ]
  }
 ],
 "metadata": {
  "kernelspec": {
   "display_name": "Python 3",
   "language": "python",
   "name": "python3"
  },
  "language_info": {
   "codemirror_mode": {
    "name": "ipython",
    "version": 3
   },
   "file_extension": ".py",
   "mimetype": "text/x-python",
   "name": "python",
   "nbconvert_exporter": "python",
   "pygments_lexer": "ipython3",
   "version": "3.6.7"
  }
 },
 "nbformat": 4,
 "nbformat_minor": 2
}
