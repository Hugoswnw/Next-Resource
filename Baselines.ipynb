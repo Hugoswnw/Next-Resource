{
 "cells": [
  {
   "cell_type": "code",
   "execution_count": 1,
   "metadata": {},
   "outputs": [
    {
     "name": "stderr",
     "output_type": "stream",
     "text": [
      "Using TensorFlow backend.\n"
     ]
    }
   ],
   "source": [
    "import tensorflow as tf\n",
    "from keras.models import Sequential\n",
    "from keras.layers import Dense\n",
    "from keras.layers import LSTM\n",
    "from keras.layers import Bidirectional\n",
    "from keras.layers import Masking\n",
    "from keras import optimizers\n",
    "from keras.utils import Sequence\n",
    "from keras.callbacks import BaseLogger\n",
    "from keras.models import load_model\n",
    "from sklearn.metrics import mean_squared_error\n",
    "from sklearn.neighbors import NearestNeighbors\n",
    "\n",
    "import pickle\n",
    "import pandas as pd\n",
    "import numpy as np\n",
    "import math\n",
    "import itertools\n",
    "import matplotlib.pyplot as plt\n",
    "import datetime\n",
    "from scipy import spatial\n",
    "\n",
    "from SequenceHandler import evaluate, flatten, genXY, getSubDict, ranks, splitTrainTest, genXY, gen_sequences, dist\n",
    "from ShowLoss import ShowLoss"
   ]
  },
  {
   "cell_type": "code",
   "execution_count": 2,
   "metadata": {},
   "outputs": [],
   "source": [
    "vectors = pickle.load(open(\"vectors/vectors_doc2vec_sessions.pickle\", 'rb'))\n",
    "flat, xyi = flatten(vectors, seq_len=-1)\n",
    "train, test = splitTrainTest(xyi)"
   ]
  },
  {
   "cell_type": "code",
   "execution_count": 3,
   "metadata": {
    "scrolled": true
   },
   "outputs": [
    {
     "name": "stdout",
     "output_type": "stream",
     "text": [
      "top1: 0\n",
      "top10: 2493\n",
      "mean: 55.72857462519579\n",
      "count: 4469\n"
     ]
    }
   ],
   "source": [
    "evaluate(ranks(flat, xyi))"
   ]
  },
  {
   "cell_type": "code",
   "execution_count": 11,
   "metadata": {},
   "outputs": [
    {
     "name": "stderr",
     "output_type": "stream",
     "text": [
      "/home/swnw/.local/lib/python3.6/site-packages/ipykernel_launcher.py:3: FutureWarning: `rcond` parameter will change to the default of machine precision times ``max(M, N)`` where M and N are the input matrix dimensions.\n",
      "To use the future default and silence this warning we advise to pass `rcond=None`, to keep using the old, explicitly pass `rcond=-1`.\n",
      "  This is separate from the ipykernel package so we can avoid doing imports until\n"
     ]
    },
    {
     "name": "stdout",
     "output_type": "stream",
     "text": [
      "cosine - train :  0.14494703226077282\n",
      "cosine - test  :  0.15711230132937165\n",
      "euclidean - train :  5.543861366408255\n",
      "euclidean - test  :  5.7462476932851345\n"
     ]
    }
   ],
   "source": [
    "a, b = genXY(flat, train, transforming=lambda x: x[len(x)-1])\n",
    "ta, tb = genXY(flat, test, transforming=lambda x: x[len(x)-1])\n",
    "q = np.linalg.lstsq(a, b)[0]\n",
    "\n",
    "print(\"cosine - train : \", dist(b, np.dot(a, q), spatial.distance.cosine))\n",
    "print(\"cosine - test  : \", dist(tb, np.dot(ta, q), spatial.distance.cosine))\n",
    "print(\"euclidean - train : \", dist(b, np.dot(a, q), spatial.distance.euclidean))\n",
    "print(\"euclidean - test  : \", dist(tb, np.dot(ta, q), spatial.distance.euclidean))"
   ]
  },
  {
   "cell_type": "code",
   "execution_count": 12,
   "metadata": {},
   "outputs": [
    {
     "name": "stdout",
     "output_type": "stream",
     "text": [
      "top1: 1\n",
      "top10: 902\n",
      "mean: 213.06777493606137\n",
      "count: 3128\n",
      "top1: 0\n",
      "top10: 354\n",
      "mean: 216.01715137956748\n",
      "count: 1341\n"
     ]
    }
   ],
   "source": [
    "evaluate(ranks(flat, train, lambda x: np.dot(x, q)[0]))\n",
    "evaluate(ranks(flat, test, lambda x: np.dot(x, q)[0]))"
   ]
  }
 ],
 "metadata": {
  "kernelspec": {
   "display_name": "Python 3",
   "language": "python",
   "name": "python3"
  },
  "language_info": {
   "codemirror_mode": {
    "name": "ipython",
    "version": 3
   },
   "file_extension": ".py",
   "mimetype": "text/x-python",
   "name": "python",
   "nbconvert_exporter": "python",
   "pygments_lexer": "ipython3",
   "version": "3.6.7"
  }
 },
 "nbformat": 4,
 "nbformat_minor": 2
}
