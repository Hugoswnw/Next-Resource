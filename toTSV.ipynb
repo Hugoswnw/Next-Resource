{
 "cells": [
  {
   "cell_type": "code",
   "execution_count": 1,
   "metadata": {},
   "outputs": [],
   "source": [
    "import pickle\n",
    "import pandas as pd\n",
    "import numpy as np\n",
    "import itertools\n",
    "import re\n",
    "import string\n",
    "import math\n",
    "import csv\n",
    "import json\n",
    "import scipy.spatial as spac"
   ]
  },
  {
   "cell_type": "code",
   "execution_count": 5,
   "metadata": {},
   "outputs": [],
   "source": [
    "def flatten(array, offset=0):\n",
    "    _v = []\n",
    "    for i in array:\n",
    "        for _j ,j in enumerate(i):\n",
    "            if(_j>=offset):\n",
    "                _v.append(j)\n",
    "    return np.array(_v)"
   ]
  },
  {
   "cell_type": "code",
   "execution_count": 6,
   "metadata": {},
   "outputs": [],
   "source": [
    "def unpickle(path):\n",
    "    return pickle.load(open(path, 'rb'))\n",
    "\n",
    "courses = unpickle(\"./yaleocw-corpus/data/courses.pickle\")\n",
    "sessions = unpickle(\"./yaleocw-corpus/data/sessions.pickle\")\n",
    "vectors = unpickle(\"vectors_doc2vec_sessions.pickle\")\n",
    "preds = unpickle(\"preds_doc2vec_sessions.pickle\")"
   ]
  },
  {
   "cell_type": "code",
   "execution_count": 4,
   "metadata": {},
   "outputs": [],
   "source": [
    "sessions = sessions.drop(sessions[sessions[\"Transcriptions\"].isna()].index)\n",
    "sessions = sessions.drop(sessions[sessions[\"Chapters\"].isna()].index)\n",
    "sessions = sessions.drop([453,454,821,881])"
   ]
  },
  {
   "cell_type": "code",
   "execution_count": 5,
   "metadata": {},
   "outputs": [],
   "source": [
    "with open('/tmp/vectors.tsv', 'wt') as out_file:\n",
    "    tsv_writer = csv.writer(out_file, delimiter='\\t')\n",
    "    for _seq in vectors:\n",
    "        for _chap in _seq:\n",
    "            tsv_writer.writerow([_i for _i in _chap])\n",
    "            \n",
    "with open('/tmp/metadata.tsv', 'wt') as out_file:\n",
    "    metadata = sessions[[\"Title\", \"Chapters\", \"Cid\"]].set_index(\"Cid\").join(courses[[\"Department\", \"Course Title\"]])\n",
    "    tsv_writer = csv.writer(out_file, delimiter='\\t')\n",
    "    tsv_writer.writerow(metadata.columns)\n",
    "    for _sid, _seq in metadata.iterrows():\n",
    "            for _chap in _seq[\"Chapters\"]:\n",
    "                tsv_writer.writerow([_seq[\"Title\"], _chap[0], _seq[\"Department\"], _seq[\"Course Title\"]])\n",
    "    "
   ]
  },
  {
   "cell_type": "code",
   "execution_count": 6,
   "metadata": {},
   "outputs": [],
   "source": [
    "sep = 706\n",
    "with open('/tmp/pred_vectors.tsv', 'wt') as out_file:\n",
    "    tsv_writer = csv.writer(out_file, delimiter='\\t')\n",
    "    for _seq in preds:\n",
    "        for _chap in _seq:\n",
    "            tsv_writer.writerow([_i for _i in _chap])\n",
    "            \n",
    "with open('/tmp/pred_metadata.tsv', 'wt') as out_file:\n",
    "    metadata = sessions[[\"Title\", \"Chapters\", \"Cid\"]].set_index(\"Cid\").join(courses[[\"Department\", \"Course Title\"]])\n",
    "    tsv_writer = csv.writer(out_file, delimiter='\\t')\n",
    "    tsv_writer.writerow(np.concatenate((metadata.columns, [\"Train\"])))\n",
    "    for _sid, _b in enumerate(metadata.iterrows()):\n",
    "        _cid, _seq = _b\n",
    "        for _id, _chap in enumerate(_seq[\"Chapters\"]):\n",
    "            if _id!=0:\n",
    "                tsv_writer.writerow([_seq[\"Title\"], _chap[0], _seq[\"Department\"], _seq[\"Course Title\"], (\"Train\", \"Test\")[_sid<=sep]])"
   ]
  },
  {
   "cell_type": "code",
   "execution_count": 7,
   "metadata": {},
   "outputs": [],
   "source": [
    "sep = 706\n",
    "with open('/tmp/all_vectors.tsv', 'wt') as out_file:\n",
    "    tsv_writer = csv.writer(out_file, delimiter='\\t')\n",
    "    for _seq in vectors:\n",
    "        for _chap in _seq:\n",
    "            tsv_writer.writerow([_i for _i in _chap])\n",
    "    for _seq in preds:\n",
    "        for _chap in _seq:\n",
    "            tsv_writer.writerow([_i for _i in _chap])        \n",
    "            \n",
    "with open('/tmp/all_metadata.tsv', 'wt') as out_file:\n",
    "    metadata = sessions[[\"Title\", \"Chapters\", \"Cid\"]].set_index(\"Cid\").join(courses[[\"Department\", \"Course Title\"]])\n",
    "    tsv_writer = csv.writer(out_file, delimiter='\\t')\n",
    "    tsv_writer.writerow(np.concatenate((metadata.columns, [\"Train/Test\", \"In/Out\"])))\n",
    "    for _sid, _b in enumerate(metadata.iterrows()):\n",
    "        _cid, _seq = _b\n",
    "        for _id, _chap in enumerate(_seq[\"Chapters\"]):\n",
    "            tsv_writer.writerow([_seq[\"Title\"], _chap[0], _seq[\"Department\"], _seq[\"Course Title\"], (\"Train\", \"Test\")[_sid<=sep], \"In\"])\n",
    "    for _sid, _b in enumerate(metadata.iterrows()):\n",
    "        _cid, _seq = _b\n",
    "        for _id, _chap in enumerate(_seq[\"Chapters\"]):\n",
    "            if _id!=0:\n",
    "                tsv_writer.writerow([_seq[\"Title\"], _chap[0], _seq[\"Department\"], _seq[\"Course Title\"], (\"Train\", \"Test\")[_sid<=sep], \"Out\"])"
   ]
  }
 ],
 "metadata": {
  "kernelspec": {
   "display_name": "Python 3",
   "language": "python",
   "name": "python3"
  },
  "language_info": {
   "codemirror_mode": {
    "name": "ipython",
    "version": 3
   },
   "file_extension": ".py",
   "mimetype": "text/x-python",
   "name": "python",
   "nbconvert_exporter": "python",
   "pygments_lexer": "ipython3",
   "version": "3.6.7"
  }
 },
 "nbformat": 4,
 "nbformat_minor": 2
}
